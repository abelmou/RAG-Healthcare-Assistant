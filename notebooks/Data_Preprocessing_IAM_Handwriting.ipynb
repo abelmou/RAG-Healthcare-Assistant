{
  "nbformat": 4,
  "nbformat_minor": 0,
  "metadata": {
    "colab": {
      "provenance": []
    },
    "kernelspec": {
      "name": "python3",
      "display_name": "Python 3"
    },
    "language_info": {
      "name": "python"
    }
  },
  "cells": [
    {
      "cell_type": "markdown",
      "source": [
        "# Dataset : IAM Handwriting Database\n",
        "https://fki.tic.heia-fr.ch/databases/iam-handwriting-database"
      ],
      "metadata": {
        "id": "gCDu_ixdNujn"
      }
    },
    {
      "cell_type": "code",
      "execution_count": null,
      "metadata": {
        "id": "f7XAMM0KS7cO"
      },
      "outputs": [],
      "source": [
        "import os\n",
        "import tarfile\n",
        "\n",
        "download_dir = '/content/drive/MyDrive/Text-Recogntion/dataset/'\n",
        "\n",
        "# Specify the path to the .tar file\n",
        "tgz_path = os.path.join(download_dir, 'lines.tar')\n",
        "extract_to = os.path.join(download_dir, 'Dataset-Lines')\n",
        "# tgz_path = os.path.join(download_dir, 'xml.tgz')\n",
        "# extract_to = os.path.join(download_dir, 'Dataset-XML')\n",
        "\n",
        "# Extract the tar file\n",
        "with tarfile.open(tgz_path, 'r:gz') as tar:\n",
        "    tar.extractall(path=extract_to)"
      ]
    },
    {
      "cell_type": "code",
      "source": [
        "!ls /content/drive/MyDrive/Text-Recogntion/dataset/Dataset-Lines"
      ],
      "metadata": {
        "colab": {
          "base_uri": "https://localhost:8080/"
        },
        "id": "BpFYKM56cuwI",
        "outputId": "990e8637-02e2-4262-dc8e-bc143ca255ed"
      },
      "execution_count": null,
      "outputs": [
        {
          "output_type": "stream",
          "name": "stdout",
          "text": [
            "a01  a05  b03  c01  c06  d05  e02  f01\tf07  g04  h01  h06  j06  k03  l03  m02\tn01  n06  p06\n",
            "a02  a06  b04  c02  d01  d06  e04  f02\tg01  g05  h02  h07  j07  k04  l04  m03\tn02  p01  r02\n",
            "a03  b01  b05  c03  d03  d07  e06  f03\tg02  g06  h04  j01  k01  k07  l07  m04\tn03  p02  r03\n",
            "a04  b02  b06  c04  d04  e01  e07  f04\tg03  g07  h05  j04  k02  l01  m01  m06\tn04  p03  r06\n"
          ]
        }
      ]
    },
    {
      "cell_type": "markdown",
      "source": [
        "# Parse"
      ],
      "metadata": {
        "id": "mhN3ZtTRe7cu"
      }
    },
    {
      "cell_type": "code",
      "source": [
        "import os\n",
        "import xml.etree.ElementTree as ET\n",
        "import pandas as pd\n",
        "\n",
        "def parse_single_xml(xml_path, image_folder):\n",
        "    tree = ET.parse(xml_path)\n",
        "    root = tree.getroot()\n",
        "    data = []\n",
        "\n",
        "    for line in root.findall(\".//line\"):\n",
        "        text = line.attrib.get(\"text\")  # Extract label\n",
        "        img_name = line.attrib.get(\"id\")  # Extract image ID\n",
        "\n",
        "        if text and img_name:\n",
        "            folder_name = img_name.split(\"-\")[0]\n",
        "            subfolder = img_name[:7]\n",
        "            img_path = os.path.join(image_folder, folder_name, subfolder, f\"{img_name}.png\")\n",
        "\n",
        "            if os.path.exists(img_path):\n",
        "                data.append({\"image_path\": img_path, \"label\": text})\n",
        "            # else:\n",
        "            #     print(f\"Image not found: {img_path}\")\n",
        "\n",
        "    return data"
      ],
      "metadata": {
        "id": "WXoe8LElUYnA"
      },
      "execution_count": null,
      "outputs": []
    },
    {
      "cell_type": "code",
      "source": [
        "images_folder = \"/content/drive/MyDrive/Text-Recogntion/dataset/Dataset-Lines\"\n",
        "xml_folder = \"/content/drive/MyDrive/Text-Recogntion/dataset/Dataset-XML\"\n",
        "\n",
        "all_data = []\n",
        "for xml_file in os.listdir(xml_folder):\n",
        "    if xml_file.endswith(\".xml\"):\n",
        "        xml_path = os.path.join(xml_folder, xml_file)\n",
        "        data = parse_single_xml(xml_path, image_folder)\n",
        "        all_data.extend(data)"
      ],
      "metadata": {
        "id": "s2DWMM5jfFtC"
      },
      "execution_count": null,
      "outputs": []
    },
    {
      "cell_type": "code",
      "source": [
        "df = pd.DataFrame(all_data)\n",
        "print(df.head())"
      ],
      "metadata": {
        "colab": {
          "base_uri": "https://localhost:8080/"
        },
        "id": "o0gYPdrOhM22",
        "outputId": "42bb419f-6914-4ccf-b369-924749c74209"
      },
      "execution_count": null,
      "outputs": [
        {
          "output_type": "stream",
          "name": "stdout",
          "text": [
            "                                          image_path  \\\n",
            "0  /content/drive/MyDrive/Text-Recogntion/dataset...   \n",
            "1  /content/drive/MyDrive/Text-Recogntion/dataset...   \n",
            "2  /content/drive/MyDrive/Text-Recogntion/dataset...   \n",
            "3  /content/drive/MyDrive/Text-Recogntion/dataset...   \n",
            "4  /content/drive/MyDrive/Text-Recogntion/dataset...   \n",
            "\n",
            "                                              label  \n",
            "0  Though they may gather some Left-wing support, a  \n",
            "1       large majority of Labour M Ps are likely to  \n",
            "2      turn down the Foot-Griffiths resolution. Mr.  \n",
            "3           Foot's line will be that as Labour M Ps  \n",
            "4         opposed the Government Bill which brought  \n"
          ]
        }
      ]
    },
    {
      "cell_type": "code",
      "source": [
        "# Save to CSV for later use\n",
        "output_csv_path = \"/content/drive/MyDrive/Text-Recogntion/dataset/iam_labels.csv\"\n",
        "df.to_csv(output_csv_path, index=False)\n",
        "print(f\"Saved labels and image paths to: {output_csv_path}\")"
      ],
      "metadata": {
        "colab": {
          "base_uri": "https://localhost:8080/"
        },
        "id": "FRb14wvag6Ya",
        "outputId": "c13e783b-0726-4654-9be1-74e374e2c69d"
      },
      "execution_count": null,
      "outputs": [
        {
          "output_type": "stream",
          "name": "stdout",
          "text": [
            "Saved labels and image paths to: /content/drive/MyDrive/Text-Recogntion/dataset/iam_labels.csv\n"
          ]
        }
      ]
    },
    {
      "cell_type": "markdown",
      "source": [
        "# Split"
      ],
      "metadata": {
        "id": "sspkLS7-iQ-2"
      }
    },
    {
      "cell_type": "code",
      "source": [
        "import pandas as pd\n",
        "import os\n",
        "from sklearn.model_selection import train_test_split\n",
        "\n",
        "# Paths\n",
        "csv_path = \"/content/drive/MyDrive/Text-Recogntion/dataset/iam_labels.csv\"\n",
        "output_folder = \"/content/drive/MyDrive/Text-Recogntion/dataset/Split\"\n",
        "\n",
        "\n",
        "# df = pd.read_csv(csv_path)\n",
        "\n",
        "train_df, temp_df = train_test_split(df, test_size=0.2, random_state=42)\n",
        "val_df, test_df = train_test_split(temp_df, test_size=0.5, random_state=42)\n",
        "\n",
        "print(f\"Train size: {len(train_df)}\")\n",
        "print(f\"Validation size: {len(val_df)}\")\n",
        "print(f\"Test size: {len(test_df)}\")"
      ],
      "metadata": {
        "colab": {
          "base_uri": "https://localhost:8080/"
        },
        "id": "yynqihvbiJuW",
        "outputId": "49b0e61b-7e59-43a8-921a-3f1d965ea29e"
      },
      "execution_count": null,
      "outputs": [
        {
          "output_type": "stream",
          "name": "stdout",
          "text": [
            "Dataset splits saved to: /content/drive/MyDrive/Text-Recogntion/dataset/Split\n",
            "Train size: 8407\n",
            "Validation size: 1051\n",
            "Test size: 1051\n"
          ]
        }
      ]
    },
    {
      "cell_type": "code",
      "source": [
        "print('Train :\\n', train_df.head())\n",
        "print('\\n\\nVal :\\n', val_df.head())\n",
        "print('\\n\\nTest :\\n', test_df.head())"
      ],
      "metadata": {
        "colab": {
          "base_uri": "https://localhost:8080/"
        },
        "id": "QB-ZPNo5it0u",
        "outputId": "87c73446-767b-4e80-c938-0b705b33a020"
      },
      "execution_count": null,
      "outputs": [
        {
          "output_type": "stream",
          "name": "stdout",
          "text": [
            "Train :\n",
            "                                              image_path  \\\n",
            "9964  /content/drive/MyDrive/Text-Recogntion/dataset...   \n",
            "2531  /content/drive/MyDrive/Text-Recogntion/dataset...   \n",
            "3320  /content/drive/MyDrive/Text-Recogntion/dataset...   \n",
            "9461  /content/drive/MyDrive/Text-Recogntion/dataset...   \n",
            "617   /content/drive/MyDrive/Text-Recogntion/dataset...   \n",
            "\n",
            "                                                  label  \n",
            "9964                      him suddenly, making him say:  \n",
            "2531         worst aspects of the American cinema. From  \n",
            "3320  Self-control gives us: Freedom to worship God....  \n",
            "9461         been attending some kind of fancy dress do  \n",
            "617                                     in Algoma East.  \n",
            "\n",
            "\n",
            "Val :\n",
            "                                              image_path  \\\n",
            "7048  /content/drive/MyDrive/Text-Recogntion/dataset...   \n",
            "3328  /content/drive/MyDrive/Text-Recogntion/dataset...   \n",
            "4412  /content/drive/MyDrive/Text-Recogntion/dataset...   \n",
            "248   /content/drive/MyDrive/Text-Recogntion/dataset...   \n",
            "2275  /content/drive/MyDrive/Text-Recogntion/dataset...   \n",
            "\n",
            "                                                  label  \n",
            "7048      the visit to the Doria Palace, the cardinal's  \n",
            "3328  We dip into both, at the Seder. And we want to...  \n",
            "4412                    have made headway, and although  \n",
            "248        meeting in London on Monday. Once the Common  \n",
            "2275          Scarborough decisions, while # scratching  \n",
            "\n",
            "\n",
            "Test :\n",
            "                                              image_path  \\\n",
            "7309  /content/drive/MyDrive/Text-Recogntion/dataset...   \n",
            "2107  /content/drive/MyDrive/Text-Recogntion/dataset...   \n",
            "2544  /content/drive/MyDrive/Text-Recogntion/dataset...   \n",
            "7983  /content/drive/MyDrive/Text-Recogntion/dataset...   \n",
            "8916  /content/drive/MyDrive/Text-Recogntion/dataset...   \n",
            "\n",
            "                                                  label  \n",
            "7309                     her as he did Charlie, but his  \n",
            "2107  to death like cattle interests me only in so f...  \n",
            "2544          tries to show that it took more than just  \n",
            "7983               Steve awakened early and switched on  \n",
            "8916  And then she received a jolt. Old Hubert, stan...  \n"
          ]
        }
      ]
    },
    {
      "cell_type": "code",
      "source": [
        "train_df.to_csv(os.path.join(output_folder, \"train.csv\"), index=False)\n",
        "val_df.to_csv(os.path.join(output_folder, \"val.csv\"), index=False)\n",
        "test_df.to_csv(os.path.join(output_folder, \"test.csv\"), index=False)\n",
        "\n",
        "print(f\"Dataset splits saved to: {output_folder}\")"
      ],
      "metadata": {
        "colab": {
          "base_uri": "https://localhost:8080/"
        },
        "id": "L0y42dFZiqDa",
        "outputId": "ace75c48-b451-4125-842d-1ba3a46fab63"
      },
      "execution_count": null,
      "outputs": [
        {
          "output_type": "stream",
          "name": "stdout",
          "text": [
            "Dataset splits saved to: /content/drive/MyDrive/Text-Recogntion/dataset/Split\n"
          ]
        }
      ]
    }
  ]
}